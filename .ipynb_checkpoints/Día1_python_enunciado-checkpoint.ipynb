{
 "cells": [
  {
   "cell_type": "markdown",
   "id": "25e406e4",
   "metadata": {},
   "source": [
    "# Python básico\n",
    "\n",
    "Ana Belén Romero Losada\n",
    "Departamento de Ciencias de la Computación e Inteligencia Artificial\n",
    "Universidad de Sevila\n",
    "\n",
    "En esta hoja de trabajo vamos a ver lo esencial de Python para poder empezar a practicar con el lenguaje.\n",
    "\n",
    "En el entorno Jupyter se trabaja Python sobre un notebook u hoja de trabajo. Esta hoja de trabajo está formada por una secuencia de cajas, que pueden ser de texto, en las que explicar ideas y conceptos, o de código, en las que definir o evaluar funciones Python.\n"
   ]
  },
  {
   "cell_type": "markdown",
   "id": "6f83aa55",
   "metadata": {},
   "source": [
    "##  Ejercicio 1\n",
    "\n",
    "Crea una función que resuelva una ecuación de segundo grado en jupyter y en R. Compara las diferencias a la hora de realizar operaciones aritméticas y lógicas, declarar variables/objetos y usar las estructuras de control. \n",
    "\n",
    "PISTA: existe una función llamada round() para redondear. Se usa como típicamente se usa en R."
   ]
  },
  {
   "cell_type": "code",
   "execution_count": 30,
   "id": "5a496365",
   "metadata": {},
   "outputs": [],
   "source": [
    "#Crea la funcion llamada calculadora\n",
    "def calculadora (a, b, c):\n",
    "    \n",
    "##comprueba si el número que iría dentro de la raiz cuadrada es negativo\n",
    "    x = (b**2-4*a*c)\n",
    "    if x < 0:\n",
    "###Devuelve 0 y un mensaje de error\n",
    "        print(\"0, Error\")\n",
    "##en el caso que no lo sea, resuelve la ecuacion\n",
    "    else:\n",
    "        sol1 = (-b + ((b**2-4*a*c)**1/2))/2*a\n",
    "        sol2 = (-b - ((b**2-4*a*c)**1/2))/2*a \n",
    "        test1 = (a*(sol1)**2) + (b*sol1) + c\n",
    "        test2 = (a*(sol2)**2) + (b*sol2) + c\n",
    "        if(round(test1) == 0 and round(test2) == 0):\n",
    "### imprime por pantalla los siguientes mensajes\n",
    "####\"ambas soluciones son válidas, x puede valer sol1 y sol2\"\n",
    "            print(\"Ambas soluciones son válidas, x puede valer\", sol1, \"o\", sol2)\n",
    "        elif(round(test1) == 0 and round(test2) != 0):\n",
    "####\"Solo la solucion 1 es válida, x vale sol1\"\n",
    "            print(\"Solo la solución 1 es válida, por lo que x vale\", sol1)\n",
    "####\"Solo la solucion 2 es válida, x vale sol2\"    \n",
    "        elif(round(test1) != 0 and round(test2) == 0):\n",
    "            print(\"Solo la solución 2 es válida, por lo que x vale\", sol2)\n",
    "\n"
   ]
  },
  {
   "cell_type": "code",
   "execution_count": 32,
   "id": "12dde7a4",
   "metadata": {},
   "outputs": [
    {
     "name": "stdout",
     "output_type": "stream",
     "text": [
      "0, Error\n"
     ]
    }
   ],
   "source": [
    "calculadora(2,4,7)"
   ]
  },
  {
   "cell_type": "markdown",
   "id": "0bdfc9f1",
   "metadata": {},
   "source": [
    "## Ejercicio 2\n",
    "\n",
    "Traduce este pseudocódigo a código en R y python simultáneamente. \n",
    "\n"
   ]
  },
  {
   "cell_type": "code",
   "execution_count": 34,
   "id": "d22b6179",
   "metadata": {},
   "outputs": [
    {
     "data": {
      "text/plain": [
       "4"
      ]
     },
     "execution_count": 34,
     "metadata": {},
     "output_type": "execute_result"
    }
   ],
   "source": [
    "#Declara una variable llamada x que valga 2\n",
    "x = 2\n"
   ]
  },
  {
   "cell_type": "code",
   "execution_count": null,
   "id": "9340660d",
   "metadata": {},
   "outputs": [],
   "source": [
    "#Súmale 2 a x\n",
    "x+=2\n",
    "#Se puede usar asignacion aumentada --> Modifica el valor de la variable\n",
    "x-=3"
   ]
  },
  {
   "cell_type": "code",
   "execution_count": 51,
   "id": "c04298d3",
   "metadata": {},
   "outputs": [
    {
     "data": {
      "text/plain": [
       "'hola '"
      ]
     },
     "execution_count": 51,
     "metadata": {},
     "output_type": "execute_result"
    }
   ],
   "source": [
    "#Declara una variable llamada palabra que valga \"hola\"\n",
    "palabra=\"hola \"\n",
    "palabra"
   ]
  },
  {
   "cell_type": "code",
   "execution_count": 52,
   "id": "53eaf9aa",
   "metadata": {},
   "outputs": [
    {
     "data": {
      "text/plain": [
       "'hola hola hola hola '"
      ]
     },
     "execution_count": 52,
     "metadata": {},
     "output_type": "execute_result"
    }
   ],
   "source": [
    "#Cuadrupicla la variable palabra\n",
    "palabra*=4\n",
    "palabra"
   ]
  },
  {
   "cell_type": "code",
   "execution_count": 53,
   "id": "a9457486",
   "metadata": {},
   "outputs": [
    {
     "data": {
      "text/plain": [
       "'hola hola hola hola mundo que tal'"
      ]
     },
     "execution_count": 53,
     "metadata": {},
     "output_type": "execute_result"
    }
   ],
   "source": [
    "#añade las palabras \"mundo que tal\" a palabra\n",
    "palabra+=\"mundo que tal\"\n",
    "palabra"
   ]
  },
  {
   "cell_type": "code",
   "execution_count": 62,
   "id": "e2c71c7b",
   "metadata": {},
   "outputs": [
    {
     "data": {
      "text/plain": [
       "20"
      ]
     },
     "execution_count": 62,
     "metadata": {},
     "output_type": "execute_result"
    }
   ],
   "source": [
    "#encuentra en que posicion está mundo\n",
    "palabra.index(\"mundo\")\n",
    "#Cuenta carácter por carácter, entonces nos dice que empieza en el número 20"
   ]
  },
  {
   "cell_type": "code",
   "execution_count": null,
   "id": "b339bd00",
   "metadata": {},
   "outputs": [],
   "source": [
    "palabra.find(\"mundo\")\n",
    "#Sirve para lo mismo que index --> Son muy parecidas\n",
    "palabra.count(\"a\")\n",
    "#Cuenta el número de veces que hay algo"
   ]
  },
  {
   "cell_type": "code",
   "execution_count": 56,
   "id": "c33e58a5",
   "metadata": {},
   "outputs": [
    {
     "data": {
      "text/plain": [
       "'HOLA HOLA HOLA HOLA MUNDO QUE TAL'"
      ]
     },
     "execution_count": 56,
     "metadata": {},
     "output_type": "execute_result"
    }
   ],
   "source": [
    "#escribelo en mayuscula y cuenta cuantas \"a\" hay (esto hazlo solo en python)\n",
    "palabra.upper()\n",
    "#Si no ponemos nada dentro del paréntesis actúa sobre todo lo que contiene palabra\n",
    "#Si especificamos una parte concreta, solo actúa en esa"
   ]
  },
  {
   "cell_type": "code",
   "execution_count": 63,
   "id": "2068d00d",
   "metadata": {},
   "outputs": [
    {
     "data": {
      "text/plain": [
       "'ola h'"
      ]
     },
     "execution_count": 63,
     "metadata": {},
     "output_type": "execute_result"
    }
   ],
   "source": [
    "palabra[1:6]\n",
    "#Nos devuelve lo que pedimos, pero cuenta espacios también\n",
    "#Es IMPORTANTE tener en cuenta que se cuenta desde 0, no desde 1"
   ]
  },
  {
   "cell_type": "code",
   "execution_count": 64,
   "id": "c99f3613",
   "metadata": {},
   "outputs": [
    {
     "data": {
      "text/plain": [
       "'hola h'"
      ]
     },
     "execution_count": 64,
     "metadata": {},
     "output_type": "execute_result"
    }
   ],
   "source": [
    "palabra[0:6]\n",
    "#Al empezar desde 0, si cuenta la primera letra"
   ]
  },
  {
   "cell_type": "code",
   "execution_count": 66,
   "id": "5fe9c061",
   "metadata": {},
   "outputs": [
    {
     "data": {
      "text/plain": [
       "'lat euq odnum aloh aloh aloh aloh'"
      ]
     },
     "execution_count": 66,
     "metadata": {},
     "output_type": "execute_result"
    }
   ],
   "source": [
    "palabra[0:12:2]\n",
    "#Con esto nos indica los elementos que hay de un punto a otro, con saltos de x (para ello se usan los dos últimos puntos)\n",
    "palabra[::-1]\n",
    "#Si solo ponemos los puntos recorre de inicio a fin\n",
    "#Indicando el -1 hacemos que vaya en reverso, de atrás hacia delante"
   ]
  },
  {
   "cell_type": "markdown",
   "id": "cd1fc86f",
   "metadata": {},
   "source": [
    "## Ejercicio 3\n",
    "\n",
    "Vamos a prácticar con las demás clases de objetos en python."
   ]
  },
  {
   "cell_type": "code",
   "execution_count": 70,
   "id": "95a15183",
   "metadata": {},
   "outputs": [
    {
     "data": {
      "text/plain": [
       "False"
      ]
     },
     "execution_count": 70,
     "metadata": {},
     "output_type": "execute_result"
    }
   ],
   "source": [
    "#############tuplas\n",
    "(1,4,5,\"hola\")\n",
    "#Una tupla separada por comas puede tener todo tipo de datos dentro, pero no otros objetos\n",
    "\n",
    "#Crea una tupla con tres elementos, el elemento más parecido a un vector\n",
    "tupla1=(1,4,5)\n",
    "#Las tuplas también pueden nombrarse sin poner paréntesis, siempre que pongamos varios elementos separados por ,\n",
    "tupla1=1,4,5"
   ]
  },
  {
   "cell_type": "code",
   "execution_count": null,
   "id": "a68e7721",
   "metadata": {},
   "outputs": [],
   "source": [
    "#Crea una tupla con un elemento\n",
    "tupla2=1,\n",
    "#Para que reconozca que es una tupla de un solo elemento hay que poner una , al lado"
   ]
  },
  {
   "cell_type": "code",
   "execution_count": null,
   "id": "315eb581",
   "metadata": {},
   "outputs": [],
   "source": [
    "#Crea una tupla vacía\n",
    "tupla3=()"
   ]
  },
  {
   "cell_type": "code",
   "execution_count": null,
   "id": "084ba298",
   "metadata": {},
   "outputs": [],
   "source": [
    "#recorre la tupla al revés\n",
    "tupla1[::-1]"
   ]
  },
  {
   "cell_type": "code",
   "execution_count": null,
   "id": "7e41e609",
   "metadata": {},
   "outputs": [],
   "source": [
    "#está el valor 6 en la tupla?\n",
    "6 in tupla1"
   ]
  },
  {
   "cell_type": "code",
   "execution_count": 76,
   "id": "855053f5",
   "metadata": {},
   "outputs": [
    {
     "data": {
      "text/plain": [
       "(1, 4, 5, 10, 10, 'hola', 10, 'hola', 10, 'hola', 10, 'hola')"
      ]
     },
     "execution_count": 76,
     "metadata": {},
     "output_type": "execute_result"
    }
   ],
   "source": [
    "#Concatena, es decir, añade al final de la tupla: el valor 10\n",
    "tupla1+=10,\n",
    "#Sólo se pueden concatenar tuplas y tuplas (cosas iguales), por lo que para concatenar hay que ponerle la , para que sea tupla\n",
    "tupla1+=\"hola\",\n",
    "tupla1"
   ]
  },
  {
   "cell_type": "code",
   "execution_count": 77,
   "id": "8fd07c88",
   "metadata": {},
   "outputs": [
    {
     "ename": "TypeError",
     "evalue": "'tuple' object does not support item assignment",
     "output_type": "error",
     "traceback": [
      "\u001b[1;31m---------------------------------------------------------------------------\u001b[0m",
      "\u001b[1;31mTypeError\u001b[0m                                 Traceback (most recent call last)",
      "Cell \u001b[1;32mIn[77], line 2\u001b[0m\n\u001b[0;32m      1\u001b[0m \u001b[38;5;66;03m#Modifica el valor de la posición 2 en la tupla por la palabra \"hola\"\u001b[39;00m\n\u001b[1;32m----> 2\u001b[0m tupla1[\u001b[38;5;241m2\u001b[39m]\u001b[38;5;241m=\u001b[39m\u001b[38;5;241m5\u001b[39m\n",
      "\u001b[1;31mTypeError\u001b[0m: 'tuple' object does not support item assignment"
     ]
    }
   ],
   "source": [
    "#Modifica el valor de la posición 2 en la tupla por la palabra \"hola\"\n",
    "tupla1[2]=5\n",
    "#Nos da un error, pues las tuplas no pueden modificarse los valores establecidos previamente\n",
    "#Si queremos modificar una tupla hay que hacer una tupla de nuevo, o usar otro objeto de Python (listas) que si acepte esto"
   ]
  },
  {
   "cell_type": "code",
   "execution_count": 95,
   "id": "305c0ac9",
   "metadata": {},
   "outputs": [
    {
     "data": {
      "text/plain": [
       "['hola', 'mundo', 'que', 'tal']"
      ]
     },
     "execution_count": 95,
     "metadata": {},
     "output_type": "execute_result"
    }
   ],
   "source": [
    "#############listas\n",
    "l=[1,2,5]\n",
    "#En este caso debemos poner corchetes, para que Python lo diferencia de las tuplas\n",
    "lista2 = [1,2,3,l]\n",
    "lista2\n",
    "\n",
    "#Crea una lista que dentro tenga palabras\n",
    "lista1=[\"hola\",\"mundo\",\"que\", \"tal\"]\n",
    "lista1"
   ]
  },
  {
   "cell_type": "code",
   "execution_count": 93,
   "id": "f12d0146",
   "metadata": {},
   "outputs": [
    {
     "data": {
      "text/plain": [
       "['hola', 'hola', 'que', 'tal', 122, 122, 'hola']"
      ]
     },
     "execution_count": 93,
     "metadata": {},
     "output_type": "execute_result"
    }
   ],
   "source": [
    "#Modifica el valor de la posición 2 en la lista por la palabra \"hola\"\n",
    "lista1[1] = \"hola\"\n",
    "lista1\n",
    "#Recordar que en Python empezamos desde 0"
   ]
  },
  {
   "cell_type": "code",
   "execution_count": 89,
   "id": "1a184a36",
   "metadata": {},
   "outputs": [
    {
     "data": {
      "text/plain": [
       "['hola', 'hola', 'que', 'tal', 122, 122, 'hola']"
      ]
     },
     "execution_count": 89,
     "metadata": {},
     "output_type": "execute_result"
    }
   ],
   "source": [
    "#Concatena el valor 122 con tu lista\n",
    "#Concatena el valor \"hola\" con tu lista\n",
    "lista1+=[122]\n",
    "lista1\n",
    "lista1+=[\"hola\"]\n",
    "lista1\n",
    "#Se puede usar asignación aumentada"
   ]
  },
  {
   "cell_type": "code",
   "execution_count": 97,
   "id": "8b17cf9a",
   "metadata": {},
   "outputs": [
    {
     "data": {
      "text/plain": [
       "'hola y mundo y que y tal'"
      ]
     },
     "execution_count": 97,
     "metadata": {},
     "output_type": "execute_result"
    }
   ],
   "source": [
    "#transforma la lista en una string con la función .join\n",
    "\" \".join(lista1)\n",
    "#Esto es una función que transforma una lista en una cadena de carácteres\n",
    "#Si hay un número se ralla, porque no puede pasarlo a join\n",
    "\n",
    "#Si ponemos algo entre las comillas lo añade como separador de los caracteres\n",
    "\" y \".join(lista1)"
   ]
  },
  {
   "cell_type": "code",
   "execution_count": 91,
   "id": "4b006c25",
   "metadata": {},
   "outputs": [
    {
     "data": {
      "text/plain": [
       "[2]"
      ]
     },
     "execution_count": 91,
     "metadata": {},
     "output_type": "execute_result"
    }
   ],
   "source": [
    "lista_vacia=[]\n",
    "lista_vacia.append(2)\n",
    "lista_vacia\n",
    "#Es como la asignación aumentada, solo que con esto podemos añadir cadenas, listas, ... (un mayor número de cosas)"
   ]
  },
  {
   "cell_type": "code",
   "execution_count": null,
   "id": "3fd75ad9",
   "metadata": {},
   "outputs": [],
   "source": [
    "###BUCLE FOR\n",
    "def mi_primer_bucle(lista):\n",
    "    for i in range(0,(len(lista)+1)):\n",
    "            #El +1 se pone porque empieza en 0\n",
    "            lista[i] = x+1\n",
    "    for numero in lista:\n",
    "        numero + 1\n",
    "        #Numero podemos llamarlo como queramos, si trabajamos con precios podemos poner precio en vez de numero\n",
    "        \n",
    "#Estas son las dos formas de hacer los bucles, la primera es más similar a R, pero suele ser más larga e implica poner más cosas\n",
    "#Podemos usar la segunda forma al ser algo más rápida"
   ]
  },
  {
   "cell_type": "code",
   "execution_count": null,
   "id": "37b322bc",
   "metadata": {},
   "outputs": [],
   "source": [
    "#############Diccionarios\n",
    "#Crea un diccionario\n"
   ]
  },
  {
   "cell_type": "code",
   "execution_count": null,
   "id": "4ee50c8a",
   "metadata": {},
   "outputs": [],
   "source": [
    "#accede al valor de la 2ª clave\n"
   ]
  },
  {
   "cell_type": "code",
   "execution_count": null,
   "id": "d7ec88b7",
   "metadata": {},
   "outputs": [],
   "source": [
    "#Añade una clave nueva con su correspondiente valor\n"
   ]
  },
  {
   "cell_type": "code",
   "execution_count": null,
   "id": "f207b072",
   "metadata": {},
   "outputs": [],
   "source": [
    "#Accede solo a los valores, o solo a las claves\n"
   ]
  }
 ],
 "metadata": {
  "kernelspec": {
   "display_name": "Python 3 (ipykernel)",
   "language": "python",
   "name": "python3"
  },
  "language_info": {
   "codemirror_mode": {
    "name": "ipython",
    "version": 3
   },
   "file_extension": ".py",
   "mimetype": "text/x-python",
   "name": "python",
   "nbconvert_exporter": "python",
   "pygments_lexer": "ipython3",
   "version": "3.11.5"
  }
 },
 "nbformat": 4,
 "nbformat_minor": 5
}
